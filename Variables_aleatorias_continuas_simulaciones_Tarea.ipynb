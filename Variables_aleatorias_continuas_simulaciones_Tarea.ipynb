{
  "nbformat": 4,
  "nbformat_minor": 0,
  "metadata": {
    "colab": {
      "provenance": []
    },
    "kernelspec": {
      "name": "python3",
      "display_name": "Python 3"
    },
    "language_info": {
      "name": "python"
    }
  },
  "cells": [
    {
      "cell_type": "code",
      "execution_count": 2,
      "metadata": {
        "id": "w_IHxT9nb8P2"
      },
      "outputs": [],
      "source": [
        "import numpy as np\n",
        "import numpy.random as npr\n",
        "import scipy.stats as sps\n",
        "import matplotlib.pyplot as plt\n",
        "import random\n",
        "\n",
        "from scipy.stats import norm\n",
        "\n",
        "import warnings\n",
        "warnings.filterwarnings(\"ignore\")\n"
      ]
    },
    {
      "cell_type": "markdown",
      "source": [
        "### Cálculo de probabilidades:\n",
        "$\\mathbb{P}(0<Z<b)$: Queremos calcular $\\mathbb{P}(0<Z<0.43)$, lo cuál puede realizarse de la siguiente manera:\n",
        "* Tablas de área a la derecha: $\\mathbb{P}(0<Z<0.43) = 0.1664$\n",
        "\n",
        "$\\mathbb{P}(-b<Z<b)$: Queremos calcular $\\mathbb{P}(-0.16<Z<0.16)$, lo cuál puede realizarse de la siguiente manera:\n",
        "* Tablas de área a la derecha:  $\\mathbb{P}(-0.16<Z<0.16) = \\mathbb{P}(-0.16<Z<0)+\\mathbb{P} (0<Z<0.16) = \\mathbb{P}(0<Z<0.16)+\\mathbb{P}(0<Z<0.16) = 2\\mathbb{P}(0<Z<0.16) = 2(0.0636) = 0.1272$\n",
        "\n",
        "$\\mathbb{P}(Z<-b)$: Queremos calcular $\\mathbb{P}(Z<-1.94)$, lo cuál puede realizarse de la siguiente manera:\n",
        "* Tablas de área a la derecha: $\\mathbb{P}(Z<-1.94) = \\mathbb{P}(Z<0)+\\mathbb{P}(-1.94<Z<0) = \\mathbb{P}(Z<0) + \\mathbb{P}(0<Z<1.94) = 0.5 - 0.4738 = 0.0262$\n",
        "\n",
        "$\\mathbb{P}(Z>-b)$: Queremos calcular $(Z>-0.07)$, lo cuál puede realizarse de la siguiente manera:\n",
        "* Tablas de área a la derecha: $\\mathbb{P}(Z>-0.07) = \\mathbb{P}(-0.07<Z<0) + \\mathbb{P}(Z>0) = \\mathbb{P}(0<Z<0.07) + \\mathbb{P}(Z>0) = 0.0279 + 0.5 = 0.5279$"
      ],
      "metadata": {
        "id": "j_jrVizyke9z"
      }
    },
    {
      "cell_type": "markdown",
      "source": [
        "Comprobacion\n"
      ],
      "metadata": {
        "id": "7_CPzSQKkxLa"
      }
    },
    {
      "cell_type": "code",
      "source": [
        "norm(0,1).cdf(0.43)-norm(0,1).cdf(0)"
      ],
      "metadata": {
        "colab": {
          "base_uri": "https://localhost:8080/"
        },
        "id": "XYK9Rv38k232",
        "outputId": "3a90c6ae-1b3c-404f-e326-77d33f8cad66"
      },
      "execution_count": 3,
      "outputs": [
        {
          "output_type": "execute_result",
          "data": {
            "text/plain": [
              "0.16640217940454227"
            ]
          },
          "metadata": {},
          "execution_count": 3
        }
      ]
    },
    {
      "cell_type": "code",
      "source": [
        "norm(0,1).cdf(0.16)-norm(0,1).cdf(-0.16)"
      ],
      "metadata": {
        "colab": {
          "base_uri": "https://localhost:8080/"
        },
        "id": "49pXgTR1k-dO",
        "outputId": "0a0df5dc-4ba3-4b87-ccf7-ba0bd33a1f30"
      },
      "execution_count": 4,
      "outputs": [
        {
          "output_type": "execute_result",
          "data": {
            "text/plain": [
              "0.1271189257828657"
            ]
          },
          "metadata": {},
          "execution_count": 4
        }
      ]
    },
    {
      "cell_type": "code",
      "source": [
        "norm(0,1).cdf(0)-(norm(0,1).cdf(0)-norm(0,1).cdf(-1.94))"
      ],
      "metadata": {
        "colab": {
          "base_uri": "https://localhost:8080/"
        },
        "id": "_uJFs7O_lDyH",
        "outputId": "c9801e62-409e-4fce-d225-500d7823e1b2"
      },
      "execution_count": 6,
      "outputs": [
        {
          "output_type": "execute_result",
          "data": {
            "text/plain": [
              "0.026189844940452678"
            ]
          },
          "metadata": {},
          "execution_count": 6
        }
      ]
    },
    {
      "cell_type": "code",
      "source": [
        "(norm(0,1).cdf(0)-norm(0,1).cdf(-0.07))+(norm(0,1).cdf(0))"
      ],
      "metadata": {
        "colab": {
          "base_uri": "https://localhost:8080/"
        },
        "id": "GdfeOKQjlQnG",
        "outputId": "45dfbd24-d09a-40c4-c8fd-4f92c62e733b"
      },
      "execution_count": 7,
      "outputs": [
        {
          "output_type": "execute_result",
          "data": {
            "text/plain": [
              "0.5279031701805211"
            ]
          },
          "metadata": {},
          "execution_count": 7
        }
      ]
    },
    {
      "cell_type": "markdown",
      "source": [
        "Ejercicio:\n",
        "\n",
        " Si $U\\sim \\ unif(0,1)$ entonces  $$F^{-1}_{X}(u)=\\frac{1}{\\lambda}(-Ln(1- u))^\\frac{1}{\\alpha} \\sim Weibull(\\alpha,\\lambda) $$\n",
        " Dem:\n",
        " Sea $X = \\frac{1}{\\lambda}(-Ln(1- u))^\\frac{1}{\\alpha}$\n",
        "\n",
        " Entonces\n",
        " $\\mathbb{P}(X\\leq x)=\\mathbb{P}(\\frac{1}{\\lambda}(-Ln(1- u))^\\frac{1}{\\alpha}\\leq x)$\n",
        "\n",
        "$= \\mathbb{P}(\\frac{1}{\\lambda}(-Ln(1- u))^\\frac{1}{\\alpha}\\leq x)$\n",
        "\n",
        "$= \\mathbb{P}((-Ln(1- u))^\\frac{1}{\\alpha}\\leq x \\lambda)$\n",
        "\n",
        "$= \\mathbb{P}(Ln(1- u)\\geq - (x \\lambda) ^\\alpha)$\n",
        "\n",
        "$= \\mathbb{P}(1- u\\geq e^{-(x \\lambda) ^\\alpha})$\n",
        "\n",
        "$= \\mathbb{P}(u\\leq 1- e^{-(x \\lambda) ^\\alpha})$\n",
        "\n",
        "Por lo tanto se distribuye Weibull $(\\alpha,\\lambda)$"
      ],
      "metadata": {
        "id": "hYdzdqf_cdl9"
      }
    },
    {
      "cell_type": "markdown",
      "source": [
        "5 aplicaciones de la distribucion Weibull:\n",
        "\n",
        "1.Finanzas:\n",
        "* Análisis de riesgos: Se utiliza para modelar el riesgo de eventos financieros, como la quiebra de una empresa.\n",
        "* Modelado de precios de activos: Permite modelar la distribución de los precios de activos financieros, como acciones o bonos.\n",
        "2.Seguros:\n",
        "* Tasas de primas: Se utiliza para determinar las tasas de primas de seguros para diferentes tipos de riesgos.\n",
        "* Reclamaciones de seguros: Permite modelar la distribución de las reclamaciones de seguros.\n",
        "3.Investigación médica:\n",
        "* Supervivencia de pacientes: Se utiliza para modelar el tiempo de supervivencia de pacientes con diferentes enfermedades.\n",
        "* Eficacia de tratamientos: Permite evaluar la eficacia de diferentes tratamientos médicos.\n",
        "4.Ingeniería:\n",
        "* Análisis de fiabilidad: Permite estimar la probabilidad de falla de un componente o sistema en diferentes condiciones de funcionamiento.\n",
        "* Control de calidad: Se utiliza para modelar la distribución de defectos en productos manufacturados.\n",
        "* Ingeniería de procesos: Permite modelar tiempos de proceso y optimizar la eficiencia de producción.\n",
        "\n",
        "5.Meteorología:\n",
        "* Precipitación: Se utiliza para modelar la distribución de la intensidad de la lluvia o la nieve.\n",
        "* Velocidad del viento: Permite modelar la distribución de la velocidad del viento."
      ],
      "metadata": {
        "id": "XojB8J-ZkWVd"
      }
    }
  ]
}